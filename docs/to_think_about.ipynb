{
 "cells": [
  {
   "cell_type": "markdown",
   "metadata": {},
   "source": [
    "## To think  about\n",
    "This notebook is for the different questions in the student manual regarding the software and steps in the workflow. Not all are relevant for this project."
   ]
  },
  {
   "cell_type": "markdown",
   "metadata": {},
   "source": [
    "### Reads quality control:\n",
    "- What is the structure of a FASTQ file?\n",
    "- How is the quality of the data stored in the FASTQ files? How are paired reads identified?\n",
    "- How is the quality of your data?\n",
    "- What can generate the issues you observe in your data? Can these cause any problems during subsequent analyses?"
   ]
  },
  {
   "cell_type": "markdown",
   "metadata": {},
   "source": [
    "### Reads preprocessing:\n",
    "\n",
    " - How many reads have been discarded after trimming?\n",
    " - How can this affect your future analyses and results?\n",
    " - How is the quality of your data after trimming?\n",
    " - What do the LEADING, TRAILING and SLIDINGWINDOW options do?\n"
   ]
  },
  {
   "cell_type": "markdown",
   "metadata": {},
   "source": [
    "### Genome and Metagenome assembly\n",
    "\n",
    "- What information can you get from the plots and reports given by the assembler (if you get any)?\n",
    "- What intermediate steps generate informative output about the assembly?\n",
    "- How many contigs do you expect? How many do you obtain?\n",
    "- What is the difference between a ‘contig’ and a ‘unitig’?\n",
    "- What is the difference between a ‘contig’ and a ‘scaffold’?\n",
    "- What are the kmers? What kmer(s) should you use? What are the problems and benefits of choosing a small kmer? And a big kmer?\n",
    "- Some assemblers can include a read-correction step before doing the assembly. What is this step doing?\n",
    "- How different do different assemblers perform for the same data?\n",
    "- Can you see any other letter appart from AGTC in your assembly? If so, what are those?\n"
   ]
  },
  {
   "cell_type": "markdown",
   "metadata": {},
   "source": [
    "### Assembly evaluation:\n",
    "\n",
    "- What do measures like N50, N90, etc. mean? How can they help you evaluate the quality of your assembly? Which measure is the best to summarize the quality of the assembly (N50, number of ORFs, completeness, total size, longest contig ...)\n",
    "- How does your assembly compare with the reference assembly? What can have caused the differences?\n",
    "- Why do you think your assembly is better/worse than the public one?\n",
    "- When running metaQuast for a metagenome, it may happen that very few contigs map back to the reference genomes.\n",
    "    - Is this expected?\n",
    "    - Does that mean your assembly is bad? Why?"
   ]
  },
  {
   "cell_type": "markdown",
   "metadata": {},
   "source": [
    "### Binning:\n",
    "\n",
    "- Metabat uses information about the contig coverage and tetranucleotide frequency to classify contigs into bins. What are they? Why are they suitable features to use?\n",
    "- Check how many contigs you have in your metagenome assembly. And look at how many contigs are in your bins.\n",
    "- Do the numbers add up? Is this expected? What does it mean?\n"
   ]
  },
  {
   "cell_type": "markdown",
   "metadata": {},
   "source": [
    "### Binning evaluation:\n",
    "\n",
    "- How does CheckM estimate completeness of your genomes? And the contamination values? Do you think this reflects the actual completeness and contamination of your genomes?\n",
    "- What is the difference between the estimates of “contamination” and “heterogeneity”?\n",
    "- How precise are the taxonomic ID’s you initially got?\n",
    "- Is it useful to have a rough ID of your assembled genome? Why?\n"
   ]
  },
  {
   "cell_type": "markdown",
   "metadata": {},
   "source": [
    "### Annotation:\n",
    "\n",
    "- What types of features are detected by the software? Which ones are more reliable a priori?\n",
    "- How many features of each kind are detected in your contigs? Do you detect the same number of features than the authors? How do they differ?\n",
    "- Why is more difficult to do the functional annotation in eukaryotic genomes?\n",
    "- How many genes are annotated as ‘hypothetical protein’? Why is that so? How would you tackle that problem?\n",
    "- How can you evaluate the quality of the obtained functional annotation?\n",
    "- How comparable are the results obtained from two different structural annotation softwares?"
   ]
  },
  {
   "cell_type": "markdown",
   "metadata": {},
   "source": [
    "### Homology search:\n",
    "\n",
    "- How relevant is the output format that you choose?\n",
    "- How do the resulting hits vary when you change the minimum e-value?\n",
    "- How is the alignment score calculated?\n",
    "- How important is the number of threads when you blast against a database, or against a particular sequence?\n"
   ]
  },
  {
   "cell_type": "markdown",
   "metadata": {},
   "source": [
    "### Phylogenetic placement:\n",
    "\n",
    "- How precise are the taxonomic ID’s you got?\n",
    "- How could you improve them?\n",
    "- What are the implications of erroneous IDs to the analyses?\n"
   ]
  },
  {
   "cell_type": "markdown",
   "metadata": {},
   "source": [
    "### Mapping:\n",
    "\n",
    "- What percentage of your reads map back to your contigs? Why do you think that is?\n",
    "- What potential issues can cause mRNA reads not to map properly to gene in the chromosome? Do you expect this to differ between prokaryotic and eukaryotic projects?\n",
    "- What percentage of reads map to genes?\n",
    "- How many reads do not map to genes? What does that mean? How does that relate to the type of sequencing data you are mapping?\n",
    "- What do you interpret from your reads coverage differences across the genome?\n",
    "- Do you see big differences between replicates?\n"
   ]
  },
  {
   "cell_type": "markdown",
   "metadata": {},
   "source": [
    "### Post-mapping analyses:\n",
    "\n",
    "- What is the structure of a SAM file, and how does it relate to a BAM file?\n",
    "- What is the structure of vcf and bcf files?\n",
    "- How many SNPs and INDELs do you get?\n",
    "- How is the quality of the of those variants?\n",
    "- What is the difference between the variant quality, the mapping quality and the fastq quality?\n",
    "- How are these variantes distributed along the genome?\n"
   ]
  },
  {
   "cell_type": "markdown",
   "metadata": {},
   "source": [
    "### Read counting:\n",
    "\n",
    "- What is the distribution of the counts per gene? Are most genes expressed? How many counts would indicate that a gene is expressed?\n",
    " - In the metagenomics project, the data doesn’t offer enough statistical power for a differential expression analysis. Why not? What can you still tell from the data only from the read counts?"
   ]
  },
  {
   "cell_type": "markdown",
   "metadata": {},
   "source": [
    "### Expression analyses:\n",
    "\n",
    "- If your expression results differ from those in the published article, why could it be?\n",
    "- How do the different samples and replicates cluster together?\n",
    "- What effect and implications has the p-value selection in the expression results?\n",
    "- What is the q-value and how does it differ from the p-value? Which one should you use to determine if the result is statistically significant?\n",
    "- Do you need any normalization step? What would you normalize against? Does DESeq do it?\n",
    "- What would you do to increase the statistical power of your expression analysis?\n",
    "- In the metagenomics project, ​ the data doesn’t offer enough statistical power for a differential expression analysis. Why not? What can you still tell from the data?\n"
   ]
  },
  {
   "cell_type": "code",
   "execution_count": null,
   "metadata": {},
   "outputs": [],
   "source": []
  }
 ],
 "metadata": {
  "kernelspec": {
   "display_name": "Python 3",
   "language": "python",
   "name": "python3"
  },
  "language_info": {
   "codemirror_mode": {
    "name": "ipython",
    "version": 3
   },
   "file_extension": ".py",
   "mimetype": "text/x-python",
   "name": "python",
   "nbconvert_exporter": "python",
   "pygments_lexer": "ipython3",
   "version": "3.5.2"
  }
 },
 "nbformat": 4,
 "nbformat_minor": 2
}
