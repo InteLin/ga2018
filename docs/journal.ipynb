{
 "cells": [
  {
   "cell_type": "markdown",
   "metadata": {},
   "source": [
    "# Lab work journal\n",
    "\n",
    "Notes for each sessions of lab work."
   ]
  },
  {
   "cell_type": "markdown",
   "metadata": {},
   "source": [
    "### 2018-04-10 Genome assembly\n",
    "Made soft links to the data located in the /ga2018/data folders.\n",
    "Started writing bash script for the batch assembling the genome, will have to wait for next lab session.\n",
    "Want to test running megahit in an interactive session first to see that it works. "
   ]
  },
  {
   "cell_type": "markdown",
   "metadata": {},
   "source": [
    "### 2018-04-12 UPPMAX down\n",
    "Uppmax down for maintenance. Working on preparation of the batch script so that it can be submitted as soon as UPPMAX comes online again."
   ]
  },
  {
   "cell_type": "markdown",
   "metadata": {},
   "source": [
    "### 2018-04-17 UPPMAX still down\n",
    "Uppmax expected to be down until at least 4-20. Finalized the assembly batch script with the help of the lab assistants. Considering running the assembly on personal computer if the data becomes accessible.\n",
    "\n",
    "Installed Quast locally.\n",
    "\n",
    "Started working on BWA batch script, not much progress.\n",
    "\n",
    "Downloaded data locally, will try to run megahit on my own."
   ]
  },
  {
   "cell_type": "markdown",
   "metadata": {},
   "source": [
    "### 2018-04-18 Trying locally\n",
    "Trying to run the assembly using megahit locally. First try crashed after 3h due to not enough memory available. Freed up roughly 17GB and tried again, crashed again after 9h. Going to run on UPPMAX instead."
   ]
  },
  {
   "cell_type": "markdown",
   "metadata": {},
   "source": [
    "### 2018-04-19 Running assembly\n",
    "Uppmax back up again. Submitted genome assembly as batch script assemble.sh at 13:30. Job failed due to output folder already existing (slurm output had error message). Resubmitted at 13:40."
   ]
  },
  {
   "cell_type": "markdown",
   "metadata": {},
   "source": [
    "### 2018-04-23 Completed assembly\n",
    "First try at assembly failed due to time out after 8h. Resubmitted with 11h scheduled. This also timed out. After talking to lab assistants I defined which kmers should be used and resubmitted. Finally it worked after roughly 5,5h runtime. Yay."
   ]
  },
  {
   "cell_type": "markdown",
   "metadata": {},
   "source": [
    "### 2018-04-25 Mapping and quality checking\n",
    "Started quast quality control of the assembly using metaquast.py locally without specifying reference genome. Sent batch job map_dna.sh. Crashed due to trying to run both samples (4 files) in the same run. Split into to jobs, one for SRR4342129 and one for SRR4342133. Submitted SRR4342129 first to see if it runs without crashing now. \n",
    "First job seemed to run fine, submitted second as well.\n",
    "\n",
    "metaquast finished without problem in roughly 1h 20 mins.\n",
    "\n",
    "Started MetaBat in working node 16:05. \n",
    "MetaBat finished at 16:30 with 27 bins."
   ]
  }
 ],
 "metadata": {
  "kernelspec": {
   "display_name": "Python 3",
   "language": "python",
   "name": "python3"
  },
  "language_info": {
   "codemirror_mode": {
    "name": "ipython",
    "version": 3
   },
   "file_extension": ".py",
   "mimetype": "text/x-python",
   "name": "python",
   "nbconvert_exporter": "python",
   "pygments_lexer": "ipython3",
   "version": "3.5.2"
  }
 },
 "nbformat": 4,
 "nbformat_minor": 2
}
