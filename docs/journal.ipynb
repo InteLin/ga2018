{
 "cells": [
  {
   "cell_type": "markdown",
   "metadata": {},
   "source": [
    "# Lab work journal\n",
    "\n",
    "Notes for each sessions of lab work."
   ]
  },
  {
   "cell_type": "markdown",
   "metadata": {},
   "source": [
    "### 2018-04-10 Genome assembly\n",
    "Made soft links to the data located in the /ga2018/data folders.\n",
    "Started writing bash script for the batch assembling the genome, will have to wait for next lab session.\n",
    "Want to test running megahit in an interactive session first to see that it works. "
   ]
  },
  {
   "cell_type": "markdown",
   "metadata": {},
   "source": [
    "### 2018-04-12 UPPMAX down\n",
    "Uppmax down for maintenance. Working on preparation of the batch script so that it can be submitted as soon as UPPMAX comes online again."
   ]
  },
  {
   "cell_type": "markdown",
   "metadata": {},
   "source": [
    "### 2018-04-17 UPPMAX still down\n",
    "Uppmax expected to be down until at least 4-20. Finalized the assembly batch script with the help of the lab assistants. Considering running the assembly on personal computer if the data becomes accessible.\n",
    "\n",
    "Installed Quast locally.\n",
    "\n",
    "Started working on BWA batch script, not much progress.\n",
    "\n",
    "Downloaded data locally, will try to run megahit on my own."
   ]
  }
 ],
 "metadata": {
  "kernelspec": {
   "display_name": "Python 3",
   "language": "python",
   "name": "python3"
  },
  "language_info": {
   "codemirror_mode": {
    "name": "ipython",
    "version": 3
   },
   "file_extension": ".py",
   "mimetype": "text/x-python",
   "name": "python",
   "nbconvert_exporter": "python",
   "pygments_lexer": "ipython3",
   "version": "3.5.2"
  }
 },
 "nbformat": 4,
 "nbformat_minor": 2
}
