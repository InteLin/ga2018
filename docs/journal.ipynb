{
 "cells": [
  {
   "cell_type": "markdown",
   "metadata": {},
   "source": [
    "# Lab work journal\n",
    "\n",
    "Notes for each sessions of lab work."
   ]
  },
  {
   "cell_type": "markdown",
   "metadata": {},
   "source": [
    "### 2018-04-10 Genome assembly\n",
    "Made soft links to the data located in the /ga2018/data folders.\n",
    "Started writing bash script for the batch assembling the genome, will have to wait for next lab session.\n",
    "Want to test running megahit in an interactive session first to see that it works. "
   ]
  },
  {
   "cell_type": "markdown",
   "metadata": {},
   "source": [
    "### 2018-04-12 UPPMAX down\n",
    "Uppmax down for maintenance. Working on preparation of the batch script so that it can be submitted as soon as UPPMAX comes online again."
   ]
  }
 ],
 "metadata": {
  "kernelspec": {
   "display_name": "Python 3",
   "language": "python",
   "name": "python3"
  },
  "language_info": {
   "codemirror_mode": {
    "name": "ipython",
    "version": 3
   },
   "file_extension": ".py",
   "mimetype": "text/x-python",
   "name": "python",
   "nbconvert_exporter": "python",
   "pygments_lexer": "ipython3",
   "version": "3.5.2"
  }
 },
 "nbformat": 4,
 "nbformat_minor": 2
}
